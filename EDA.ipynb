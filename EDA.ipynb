{
 "cells": [
  {
   "cell_type": "code",
   "execution_count": 149,
   "id": "80ae1df4-6ce2-474e-9f9c-33137f3ae025",
   "metadata": {},
   "outputs": [],
   "source": [
    "import pyodbc\n",
    "import sqlalchemy as sal\n",
    "from sqlalchemy import create_engine\n",
    "import pandas as pd\n",
    "import scipy.stats as stats\n",
    "import numpy as np\n",
    "import matplotlib.pyplot as plt\n",
    "import plotly.express as px\n",
    "import seaborn as sns"
   ]
  },
  {
   "cell_type": "code",
   "execution_count": 150,
   "id": "597f9005-7252-4cb8-a1fa-36eed8bfc693",
   "metadata": {},
   "outputs": [],
   "source": [
    "# Connection parameters\n",
    "credentials = {\n",
    "    \"host\"      : \"lhl-data-bootcamp.crzjul5qln0e.ca-central-1.rds.amazonaws.com\",\n",
    "    \"port\"      : \"5432\",\n",
    "    \"database\"  : \"mid_term_project\",\n",
    "    \"user\"      : \"lhl_student\",\n",
    "    \"password\"  : \"lhl_student\"\n",
    "}"
   ]
  },
  {
   "cell_type": "code",
   "execution_count": 151,
   "id": "74683abb-f12a-454c-9c58-d092fd2e92f1",
   "metadata": {},
   "outputs": [],
   "source": [
    "link = \"postgresql+psycopg2://\" + credentials[\"user\"] + ':' + credentials[\"password\"] +\\\n",
    "     '@' + credentials[\"host\"] + ':' + credentials[\"port\"] + '/' + \\\n",
    "     credentials['database']"
   ]
  },
  {
   "cell_type": "code",
   "execution_count": 152,
   "id": "856aa93b-2a67-48a0-9c2c-551e44cb60b3",
   "metadata": {},
   "outputs": [],
   "source": [
    "engine = create_engine(link)"
   ]
  },
  {
   "cell_type": "markdown",
   "id": "05604873-542d-469a-a3b9-7c2cae455788",
   "metadata": {},
   "source": [
    "# Task 1: Test the hypothesis that the delay is from Normal distribution. and that **mean** of the delay is 0. Be careful about the outliers."
   ]
  },
  {
   "cell_type": "code",
   "execution_count": 5,
   "id": "bb73657c-f9bd-4bbd-b3ab-848df582bea8",
   "metadata": {},
   "outputs": [],
   "source": [
    "query_delay = \"SELECT arr_delay, dep_delay FROM flights;\""
   ]
  },
  {
   "cell_type": "code",
   "execution_count": 6,
   "id": "791ccecd-9ed8-4877-8e3e-1c873871eb00",
   "metadata": {},
   "outputs": [
    {
     "name": "stdout",
     "output_type": "stream",
     "text": [
      "(15927485, 2)\n"
     ]
    },
    {
     "data": {
      "text/html": [
       "<div>\n",
       "<style scoped>\n",
       "    .dataframe tbody tr th:only-of-type {\n",
       "        vertical-align: middle;\n",
       "    }\n",
       "\n",
       "    .dataframe tbody tr th {\n",
       "        vertical-align: top;\n",
       "    }\n",
       "\n",
       "    .dataframe thead th {\n",
       "        text-align: right;\n",
       "    }\n",
       "</style>\n",
       "<table border=\"1\" class=\"dataframe\">\n",
       "  <thead>\n",
       "    <tr style=\"text-align: right;\">\n",
       "      <th></th>\n",
       "      <th>arr_delay</th>\n",
       "      <th>dep_delay</th>\n",
       "    </tr>\n",
       "  </thead>\n",
       "  <tbody>\n",
       "    <tr>\n",
       "      <th>0</th>\n",
       "      <td>-15.0</td>\n",
       "      <td>-6.0</td>\n",
       "    </tr>\n",
       "    <tr>\n",
       "      <th>1</th>\n",
       "      <td>-14.0</td>\n",
       "      <td>-3.0</td>\n",
       "    </tr>\n",
       "    <tr>\n",
       "      <th>2</th>\n",
       "      <td>41.0</td>\n",
       "      <td>-1.0</td>\n",
       "    </tr>\n",
       "    <tr>\n",
       "      <th>3</th>\n",
       "      <td>-25.0</td>\n",
       "      <td>-8.0</td>\n",
       "    </tr>\n",
       "    <tr>\n",
       "      <th>4</th>\n",
       "      <td>70.0</td>\n",
       "      <td>66.0</td>\n",
       "    </tr>\n",
       "  </tbody>\n",
       "</table>\n",
       "</div>"
      ],
      "text/plain": [
       "   arr_delay  dep_delay\n",
       "0      -15.0       -6.0\n",
       "1      -14.0       -3.0\n",
       "2       41.0       -1.0\n",
       "3      -25.0       -8.0\n",
       "4       70.0       66.0"
      ]
     },
     "execution_count": 6,
     "metadata": {},
     "output_type": "execute_result"
    }
   ],
   "source": [
    "df_delay = pd.read_sql_query(query_delay, engine)\n",
    "print(df_delay.shape)\n",
    "df_delay.head()"
   ]
  },
  {
   "cell_type": "code",
   "execution_count": 8,
   "id": "8b49a3f5-ef55-4d3d-b4cd-210fa5e59980",
   "metadata": {},
   "outputs": [
    {
     "data": {
      "text/plain": [
       "arr_delay    311744\n",
       "dep_delay    263754\n",
       "dtype: int64"
      ]
     },
     "execution_count": 8,
     "metadata": {},
     "output_type": "execute_result"
    }
   ],
   "source": [
    "df_delay.isnull().sum()"
   ]
  },
  {
   "cell_type": "code",
   "execution_count": 9,
   "id": "77dfad34-9901-4a6a-858d-4dbdb3b06cac",
   "metadata": {},
   "outputs": [],
   "source": [
    "df_delay.dropna(axis=0, how='any', inplace=True)"
   ]
  },
  {
   "cell_type": "code",
   "execution_count": 10,
   "id": "512357dd-365a-4006-ac52-2cd4bdd44423",
   "metadata": {},
   "outputs": [
    {
     "data": {
      "text/plain": [
       "(15611152, 2)"
      ]
     },
     "execution_count": 10,
     "metadata": {},
     "output_type": "execute_result"
    }
   ],
   "source": [
    "df_delay.shape"
   ]
  },
  {
   "cell_type": "code",
   "execution_count": 11,
   "id": "ce5675ed-67e2-4f22-925f-97d32675433d",
   "metadata": {},
   "outputs": [
    {
     "data": {
      "text/plain": [
       "(13424478, 2)"
      ]
     },
     "execution_count": 11,
     "metadata": {},
     "output_type": "execute_result"
    }
   ],
   "source": [
    "#find Q1, Q3, and interquartile range for each column\n",
    "Q1 = df_delay.quantile(q=.25)\n",
    "Q3 = df_delay.quantile(q=.75)\n",
    "IQR = df_delay.apply(stats.iqr)\n",
    "\n",
    "#only keep rows in dataframe that have values within 1.5*IQR of Q1 and Q3\n",
    "data_clean = df_delay[~((df_delay < (Q1-1.5*IQR)) | (df_delay > (Q3+1.5*IQR))).any(axis=1)]\n",
    "\n",
    "#find how many rows are left in the dataframe \n",
    "data_clean.shape"
   ]
  },
  {
   "cell_type": "markdown",
   "id": "8b3ee037-a2fa-4b71-bffa-bc0c8a5e8d5c",
   "metadata": {},
   "source": [
    "## Histogram - Arrival Delay & Mean"
   ]
  },
  {
   "cell_type": "code",
   "execution_count": 13,
   "id": "01e89950-48a8-42b6-bd23-5585926dc8c0",
   "metadata": {},
   "outputs": [
    {
     "data": {
      "text/plain": [
       "<seaborn.axisgrid.FacetGrid at 0x2c972535f70>"
      ]
     },
     "execution_count": 13,
     "metadata": {},
     "output_type": "execute_result"
    },
    {
     "data": {
      "image/png": "[encoded data removed]",
      "text/plain": [
       "<Figure size 360x360 with 1 Axes>"
      ]
     },
     "metadata": {},
     "output_type": "display_data"
    }
   ],
   "source": [
    "sns.set_style('darkgrid')\n",
    "sns.displot(data_clean['arr_delay'], bins=25, kde=True)"
   ]
  },
  {
   "cell_type": "code",
   "execution_count": 14,
   "id": "63ccb75e-9310-4ace-a78e-700539655fda",
   "metadata": {},
   "outputs": [
    {
     "data": {
      "text/plain": [
       "-7.190850698254338"
      ]
     },
     "execution_count": 14,
     "metadata": {},
     "output_type": "execute_result"
    }
   ],
   "source": [
    "data_clean['arr_delay'].mean()"
   ]
  },
  {
   "cell_type": "markdown",
   "id": "12940e15-edd5-4d6e-9a39-dad84e42851f",
   "metadata": {},
   "source": [
    "## Histogram - Departure Delay & Mean"
   ]
  },
  {
   "cell_type": "code",
   "execution_count": 50,
   "id": "02c36c12-3398-43d3-8880-5f84d9aefc32",
   "metadata": {},
   "outputs": [
    {
     "data": {
      "text/plain": [
       "<seaborn.axisgrid.FacetGrid at 0x2caa976d0d0>"
      ]
     },
     "execution_count": 50,
     "metadata": {},
     "output_type": "execute_result"
    },
    {
     "data": {
      "image/png": "[encoded data removed]",
      "text/plain": [
       "<Figure size 360x360 with 1 Axes>"
      ]
     },
     "metadata": {},
     "output_type": "display_data"
    }
   ],
   "source": [
    "sns.set_style('darkgrid')\n",
    "sns.displot(data_clean['dep_delay'], bins=25, kde=False)"
   ]
  },
  {
   "cell_type": "code",
   "execution_count": 16,
   "id": "629bb578-3082-4a45-b97c-512d58a05ca0",
   "metadata": {},
   "outputs": [
    {
     "data": {
      "text/plain": [
       "-1.555059347558989"
      ]
     },
     "execution_count": 16,
     "metadata": {},
     "output_type": "execute_result"
    }
   ],
   "source": [
    "data_clean['dep_delay'].mean()"
   ]
  },
  {
   "cell_type": "markdown",
   "id": "a1965db0-29d4-458a-b7eb-dcbbcd014a70",
   "metadata": {},
   "source": [
    "# Task 2: Is average/median monthly delay different during the year? If yes, which are months with the biggest delays and what could be the reason?"
   ]
  },
  {
   "cell_type": "code",
   "execution_count": 30,
   "id": "8127327e-198d-4b95-823a-e60df6188541",
   "metadata": {},
   "outputs": [],
   "source": [
    "query_month = \"SELECT fl_date, arr_delay, dep_delay FROM flights ORDER BY fl_date;\""
   ]
  },
  {
   "cell_type": "code",
   "execution_count": 31,
   "id": "b04f5f7d-2e74-4aff-859c-002d14fb5424",
   "metadata": {},
   "outputs": [],
   "source": [
    "df_month = pd.read_sql_query(query_month, engine)"
   ]
  },
  {
   "cell_type": "code",
   "execution_count": 33,
   "id": "84ffce06-3fe9-41e2-b269-03921f1587c1",
   "metadata": {},
   "outputs": [
    {
     "data": {
      "text/html": [
       "<div>\n",
       "<style scoped>\n",
       "    .dataframe tbody tr th:only-of-type {\n",
       "        vertical-align: middle;\n",
       "    }\n",
       "\n",
       "    .dataframe tbody tr th {\n",
       "        vertical-align: top;\n",
       "    }\n",
       "\n",
       "    .dataframe thead th {\n",
       "        text-align: right;\n",
       "    }\n",
       "</style>\n",
       "<table border=\"1\" class=\"dataframe\">\n",
       "  <thead>\n",
       "    <tr style=\"text-align: right;\">\n",
       "      <th></th>\n",
       "      <th>fl_date</th>\n",
       "      <th>arr_delay</th>\n",
       "      <th>dep_delay</th>\n",
       "    </tr>\n",
       "  </thead>\n",
       "  <tbody>\n",
       "    <tr>\n",
       "      <th>0</th>\n",
       "      <td>2018-01-01</td>\n",
       "      <td>14.0</td>\n",
       "      <td>-1.0</td>\n",
       "    </tr>\n",
       "    <tr>\n",
       "      <th>1</th>\n",
       "      <td>2018-01-01</td>\n",
       "      <td>43.0</td>\n",
       "      <td>53.0</td>\n",
       "    </tr>\n",
       "    <tr>\n",
       "      <th>2</th>\n",
       "      <td>2018-01-01</td>\n",
       "      <td>128.0</td>\n",
       "      <td>135.0</td>\n",
       "    </tr>\n",
       "    <tr>\n",
       "      <th>3</th>\n",
       "      <td>2018-01-01</td>\n",
       "      <td>3.0</td>\n",
       "      <td>10.0</td>\n",
       "    </tr>\n",
       "    <tr>\n",
       "      <th>4</th>\n",
       "      <td>2018-01-01</td>\n",
       "      <td>-32.0</td>\n",
       "      <td>-4.0</td>\n",
       "    </tr>\n",
       "  </tbody>\n",
       "</table>\n",
       "</div>"
      ],
      "text/plain": [
       "      fl_date  arr_delay  dep_delay\n",
       "0  2018-01-01       14.0       -1.0\n",
       "1  2018-01-01       43.0       53.0\n",
       "2  2018-01-01      128.0      135.0\n",
       "3  2018-01-01        3.0       10.0\n",
       "4  2018-01-01      -32.0       -4.0"
      ]
     },
     "execution_count": 33,
     "metadata": {},
     "output_type": "execute_result"
    }
   ],
   "source": [
    "df_month.head()"
   ]
  },
  {
   "cell_type": "code",
   "execution_count": 34,
   "id": "18870401-26a0-48ad-87fc-c6e7c888af78",
   "metadata": {},
   "outputs": [
    {
     "data": {
      "text/plain": [
       "pandas.core.series.Series"
      ]
     },
     "execution_count": 34,
     "metadata": {},
     "output_type": "execute_result"
    }
   ],
   "source": [
    "type(df_month['fl_date'])"
   ]
  },
  {
   "cell_type": "code",
   "execution_count": 35,
   "id": "93c50627-7c80-44b9-b90f-e840eaddd805",
   "metadata": {},
   "outputs": [
    {
     "data": {
      "text/plain": [
       "0          2018-01-01\n",
       "1          2018-01-01\n",
       "2          2018-01-01\n",
       "3          2018-01-01\n",
       "4          2018-01-01\n",
       "              ...    \n",
       "15927480   2019-12-31\n",
       "15927481   2019-12-31\n",
       "15927482   2019-12-31\n",
       "15927483   2019-12-31\n",
       "15927484   2019-12-31\n",
       "Name: fl_date, Length: 15927485, dtype: datetime64[ns]"
      ]
     },
     "execution_count": 35,
     "metadata": {},
     "output_type": "execute_result"
    }
   ],
   "source": [
    "pd.to_datetime(df_month.fl_date)"
   ]
  },
  {
   "cell_type": "code",
   "execution_count": 36,
   "id": "576c3e19-00eb-44f2-8d86-df37f5013221",
   "metadata": {},
   "outputs": [],
   "source": [
    "df_month['fl_date_month'] = pd.to_datetime(df_month['fl_date']).dt.month"
   ]
  },
  {
   "cell_type": "code",
   "execution_count": 49,
   "id": "115e8c22-ec27-45d3-ab8e-4a0cb20d68e5",
   "metadata": {},
   "outputs": [
    {
     "data": {
      "image/png": "[encoded data removed]",
      "text/plain": [
       "<Figure size 1728x864 with 2 Axes>"
      ]
     },
     "metadata": {
      "needs_background": "light"
     },
     "output_type": "display_data"
    }
   ],
   "source": [
    "%matplotlib inline\n",
    "\n",
    "# Arrival and departure delays by month of the year\n",
    "plt.figure(figsize=(24, 12)).subplots_adjust(hspace = 0.5)\n",
    "\n",
    "plt.subplot(2, 2 ,1)\n",
    "df_month.groupby('fl_date_month').arr_delay.mean().plot.bar().set_title('Median Arrival Delays by Month')\n",
    "plt.title('Mean Arrival Delays by Month', fontsize=16)\n",
    "plt.ylabel('Minutes', fontsize=14)\n",
    "plt.xlabel('Month', fontsize=14)\n",
    "\n",
    "plt.subplot(2, 2 ,2)\n",
    "df_month.groupby('fl_date_month').dep_delay.mean().plot.bar().set_title('Departure Delays by Month')\n",
    "plt.title('Mean Departure Delays by Month', fontsize=16)\n",
    "plt.ylabel('Minutes', fontsize=14)\n",
    "plt.xlabel('Month', fontsize=14)\n",
    "\n",
    "plt.show()"
   ]
  },
  {
   "cell_type": "code",
   "execution_count": 48,
   "id": "9a99504c-2835-44f9-a279-4fda15850d7e",
   "metadata": {},
   "outputs": [
    {
     "data": {
      "image/png": "[encoded data removed]",
      "text/plain": [
       "<Figure size 1728x864 with 2 Axes>"
      ]
     },
     "metadata": {
      "needs_background": "light"
     },
     "output_type": "display_data"
    }
   ],
   "source": [
    "%matplotlib inline\n",
    "\n",
    "# Arrival and departure delays by month of the year\n",
    "plt.figure(figsize=(24, 12)).subplots_adjust(hspace = 0.5)\n",
    "\n",
    "plt.subplot(2, 2 ,1)\n",
    "df_month.groupby('fl_date_month').arr_delay.median().plot.bar().set_title('Median Arrival Delays by Month')\n",
    "plt.title('Median Arrival Delays by Month', fontsize=16)\n",
    "plt.ylabel('Minutes', fontsize=14)\n",
    "plt.xlabel('Month', fontsize=14)\n",
    "\n",
    "plt.subplot(2, 2 ,2)\n",
    "df_month.groupby('fl_date_month').dep_delay.median().plot.bar().set_title('Departure Delays by Month')\n",
    "plt.title('Median Departure Delays by Month', fontsize=16)\n",
    "plt.ylabel('Minutes', fontsize=14)\n",
    "plt.xlabel('Month', fontsize=14)\n",
    "\n",
    "plt.show()"
   ]
  },
  {
   "cell_type": "markdown",
   "id": "e517e08e-1e56-490b-afa8-998e49541f5e",
   "metadata": {},
   "source": [
    "### The highest median monthly delays are observed in June, July and August. It is probably due to a higher volume of flights and travelers in the summertime."
   ]
  },
  {
   "cell_type": "markdown",
   "id": "54221eb5-ba97-4ab9-b269-d36698bd7ba6",
   "metadata": {},
   "source": [
    "# Task 4: How taxi times changing during the day? Does higher traffic lead to bigger taxi times?"
   ]
  },
  {
   "cell_type": "code",
   "execution_count": 63,
   "id": "1fff306c-c50b-4911-9880-b797446dec9b",
   "metadata": {},
   "outputs": [
    {
     "name": "stdout",
     "output_type": "stream",
     "text": [
      "(133859, 5)\n"
     ]
    },
    {
     "data": {
      "text/html": [
       "<div>\n",
       "<style scoped>\n",
       "    .dataframe tbody tr th:only-of-type {\n",
       "        vertical-align: middle;\n",
       "    }\n",
       "\n",
       "    .dataframe tbody tr th {\n",
       "        vertical-align: top;\n",
       "    }\n",
       "\n",
       "    .dataframe thead th {\n",
       "        text-align: right;\n",
       "    }\n",
       "</style>\n",
       "<table border=\"1\" class=\"dataframe\">\n",
       "  <thead>\n",
       "    <tr style=\"text-align: right;\">\n",
       "      <th></th>\n",
       "      <th>fl_date</th>\n",
       "      <th>dep_time</th>\n",
       "      <th>taxi_out</th>\n",
       "      <th>arr_time</th>\n",
       "      <th>taxi_in</th>\n",
       "    </tr>\n",
       "  </thead>\n",
       "  <tbody>\n",
       "    <tr>\n",
       "      <th>0</th>\n",
       "      <td>2018-01-01</td>\n",
       "      <td>1726.0</td>\n",
       "      <td>15.0</td>\n",
       "      <td>1859.0</td>\n",
       "      <td>9.0</td>\n",
       "    </tr>\n",
       "    <tr>\n",
       "      <th>1</th>\n",
       "      <td>2018-01-01</td>\n",
       "      <td>1005.0</td>\n",
       "      <td>15.0</td>\n",
       "      <td>1140.0</td>\n",
       "      <td>10.0</td>\n",
       "    </tr>\n",
       "    <tr>\n",
       "      <th>2</th>\n",
       "      <td>2018-01-01</td>\n",
       "      <td>623.0</td>\n",
       "      <td>17.0</td>\n",
       "      <td>815.0</td>\n",
       "      <td>5.0</td>\n",
       "    </tr>\n",
       "    <tr>\n",
       "      <th>3</th>\n",
       "      <td>2018-01-01</td>\n",
       "      <td>1907.0</td>\n",
       "      <td>10.0</td>\n",
       "      <td>2105.0</td>\n",
       "      <td>7.0</td>\n",
       "    </tr>\n",
       "    <tr>\n",
       "      <th>4</th>\n",
       "      <td>2018-01-01</td>\n",
       "      <td>2304.0</td>\n",
       "      <td>11.0</td>\n",
       "      <td>551.0</td>\n",
       "      <td>6.0</td>\n",
       "    </tr>\n",
       "  </tbody>\n",
       "</table>\n",
       "</div>"
      ],
      "text/plain": [
       "      fl_date  dep_time  taxi_out  arr_time  taxi_in\n",
       "0  2018-01-01    1726.0      15.0    1859.0      9.0\n",
       "1  2018-01-01    1005.0      15.0    1140.0     10.0\n",
       "2  2018-01-01     623.0      17.0     815.0      5.0\n",
       "3  2018-01-01    1907.0      10.0    2105.0      7.0\n",
       "4  2018-01-01    2304.0      11.0     551.0      6.0"
      ]
     },
     "execution_count": 63,
     "metadata": {},
     "output_type": "execute_result"
    }
   ],
   "source": [
    "query_taxi_times = \"SELECT fl_date, dep_time, taxi_out, arr_time, taxi_in FROM flights WHERE fl_date between '2018-01-01' and '2018-01-07' ORDER BY fl_date ASC;\"\n",
    "\n",
    "df_taxi = pd.read_sql_query(query_taxi_times, engine)\n",
    "print(df_taxi.shape)\n",
    "df_taxi.head()"
   ]
  },
  {
   "cell_type": "code",
   "execution_count": 88,
   "id": "4c9f68fe-03ad-4b0b-993b-542fdc5b07cd",
   "metadata": {},
   "outputs": [
    {
     "data": {
      "text/html": [
       "<div>\n",
       "<style scoped>\n",
       "    .dataframe tbody tr th:only-of-type {\n",
       "        vertical-align: middle;\n",
       "    }\n",
       "\n",
       "    .dataframe tbody tr th {\n",
       "        vertical-align: top;\n",
       "    }\n",
       "\n",
       "    .dataframe thead th {\n",
       "        text-align: right;\n",
       "    }\n",
       "</style>\n",
       "<table border=\"1\" class=\"dataframe\">\n",
       "  <thead>\n",
       "    <tr style=\"text-align: right;\">\n",
       "      <th></th>\n",
       "      <th>fl_date</th>\n",
       "      <th>dep_time</th>\n",
       "      <th>taxi_out</th>\n",
       "      <th>arr_time</th>\n",
       "      <th>taxi_in</th>\n",
       "    </tr>\n",
       "  </thead>\n",
       "  <tbody>\n",
       "    <tr>\n",
       "      <th>122056</th>\n",
       "      <td>2018-01-07</td>\n",
       "      <td>2359.0</td>\n",
       "      <td>21.0</td>\n",
       "      <td>212.0</td>\n",
       "      <td>9.0</td>\n",
       "    </tr>\n",
       "    <tr>\n",
       "      <th>127522</th>\n",
       "      <td>2018-01-07</td>\n",
       "      <td>2359.0</td>\n",
       "      <td>17.0</td>\n",
       "      <td>731.0</td>\n",
       "      <td>3.0</td>\n",
       "    </tr>\n",
       "    <tr>\n",
       "      <th>118373</th>\n",
       "      <td>2018-01-07</td>\n",
       "      <td>2400.0</td>\n",
       "      <td>10.0</td>\n",
       "      <td>732.0</td>\n",
       "      <td>7.0</td>\n",
       "    </tr>\n",
       "    <tr>\n",
       "      <th>119723</th>\n",
       "      <td>2018-01-07</td>\n",
       "      <td>2400.0</td>\n",
       "      <td>70.0</td>\n",
       "      <td>105.0</td>\n",
       "      <td>12.0</td>\n",
       "    </tr>\n",
       "    <tr>\n",
       "      <th>125329</th>\n",
       "      <td>2018-01-07</td>\n",
       "      <td>2400.0</td>\n",
       "      <td>26.0</td>\n",
       "      <td>800.0</td>\n",
       "      <td>6.0</td>\n",
       "    </tr>\n",
       "  </tbody>\n",
       "</table>\n",
       "</div>"
      ],
      "text/plain": [
       "           fl_date  dep_time  taxi_out  arr_time  taxi_in\n",
       "122056  2018-01-07    2359.0      21.0     212.0      9.0\n",
       "127522  2018-01-07    2359.0      17.0     731.0      3.0\n",
       "118373  2018-01-07    2400.0      10.0     732.0      7.0\n",
       "119723  2018-01-07    2400.0      70.0     105.0     12.0\n",
       "125329  2018-01-07    2400.0      26.0     800.0      6.0"
      ]
     },
     "execution_count": 88,
     "metadata": {},
     "output_type": "execute_result"
    }
   ],
   "source": [
    "df_taxi.sort_values(['fl_date', 'dep_time'], ascending = [True, True], inplace=True)\n",
    "df_taxi.tail()"
   ]
  },
  {
   "cell_type": "code",
   "execution_count": 101,
   "id": "8ca4b686-d89e-4319-8a7f-e9f20a6ff208",
   "metadata": {},
   "outputs": [
    {
     "data": {
      "text/plain": [
       "17.277717598368433"
      ]
     },
     "execution_count": 101,
     "metadata": {},
     "output_type": "execute_result"
    }
   ],
   "source": [
    "df_taxi['taxi_out'].mean()"
   ]
  },
  {
   "cell_type": "code",
   "execution_count": 69,
   "id": "dfa1f390-d7de-47fa-ba84-bd1d0b42aace",
   "metadata": {},
   "outputs": [
    {
     "data": {
      "text/plain": [
       "7.874435039855371"
      ]
     },
     "execution_count": 69,
     "metadata": {},
     "output_type": "execute_result"
    }
   ],
   "source": [
    "df_taxi['taxi_in'].mean()"
   ]
  },
  {
   "cell_type": "code",
   "execution_count": 113,
   "id": "a6ce843d-0128-42e4-93ec-92d33c3e366a",
   "metadata": {},
   "outputs": [],
   "source": [
    "# Plotting dataframes\n",
    "df_taxi_out = df_taxi.iloc[:, 1:3]\n",
    "df_taxi_in = df_taxi.iloc[:, 3:5]"
   ]
  },
  {
   "cell_type": "code",
   "execution_count": 112,
   "id": "933c9218-6c25-48ef-b51f-d90813480aed",
   "metadata": {},
   "outputs": [],
   "source": [
    "# Remove Outliers\n",
    "df_taxi_out = df_taxi_out.drop(df_taxi_out[(df_taxi_out['taxi_out']>400)].index)\n",
    "df_taxi_in = df_taxi_in.drop(df_taxi_in[(df_taxi_in['taxi_in']>400)].index)"
   ]
  },
  {
   "cell_type": "markdown",
   "id": "b0c67e14-d1c4-49fd-b14d-10fa252e1e18",
   "metadata": {},
   "source": [
    "## Plotting Taxi Times Based on Departure and Arrival Delays"
   ]
  },
  {
   "cell_type": "code",
   "execution_count": 111,
   "id": "bf6af6ed-c112-40d9-add6-573c11f6aa9c",
   "metadata": {},
   "outputs": [
    {
     "data": {
      "text/plain": [
       "<seaborn.axisgrid.FacetGrid at 0x2ca26051ee0>"
      ]
     },
     "execution_count": 111,
     "metadata": {},
     "output_type": "execute_result"
    },
    {
     "data": {
      "image/png": "[encoded data removed]",
      "text/plain": [
       "<Figure size 360x360 with 1 Axes>"
      ]
     },
     "metadata": {},
     "output_type": "display_data"
    }
   ],
   "source": [
    "sns.displot(x=\"dep_time\", y=\"taxi_out\", data=df_taxi_out[['dep_time','taxi_out']], kind=\"hist\", bins=60)"
   ]
  },
  {
   "cell_type": "code",
   "execution_count": 114,
   "id": "09b2de3b-fa9d-4c2d-b300-9bf30021b3a3",
   "metadata": {},
   "outputs": [
    {
     "data": {
      "text/plain": [
       "<seaborn.axisgrid.FacetGrid at 0x2ca24f88b20>"
      ]
     },
     "execution_count": 114,
     "metadata": {},
     "output_type": "execute_result"
    },
    {
     "data": {
      "image/png": "[encoded data removed]",
      "text/plain": [
       "<Figure size 360x360 with 1 Axes>"
      ]
     },
     "metadata": {},
     "output_type": "display_data"
    }
   ],
   "source": [
    "sns.displot(x=\"arr_time\", y=\"taxi_in\", data=df_taxi_in[['arr_time','taxi_in']], kind=\"hist\", bins=60)"
   ]
  },
  {
   "cell_type": "markdown",
   "id": "ff738a98-ad1a-4b7f-b6f4-8ec92d3054b3",
   "metadata": {},
   "source": [
    "### By observing the graphs of taxi times based on hourly arrival and departure times, we can infer that higher traffic leads to higher taxi times. Typically, taxiing in an airplane takes a lot less time than taxiing out because departing flights can be delayed whereas landing a plane cannot be delayed. The longest taxi times are observed in the daytime when traffic is at its peak."
   ]
  },
  {
   "cell_type": "markdown",
   "id": "8b6206f0-dce5-425d-a2ec-703cf587e917",
   "metadata": {},
   "source": [
    "# Task 5: What is the average percentage of delays that is already created before departure? (aka are arrival delays caused by departure delays?) Are airlines able to lower the delay during the flights?"
   ]
  },
  {
   "cell_type": "markdown",
   "id": "579e9845-f621-4d9c-ade4-af1fcaf1f702",
   "metadata": {},
   "source": [
    "Out of all the arrivals that are late (arr_delay > 0), what percentage of those were late at departure (dep_delay > 0).\n",
    "All of the late arrival, figure out what percentage of those departed late.\n",
    "\n",
    "Take all late departures and see if air time is less than (arrival time - departure time)"
   ]
  },
  {
   "cell_type": "code",
   "execution_count": 153,
   "id": "53c51404-5df6-4736-93bb-a056e3535903",
   "metadata": {},
   "outputs": [
    {
     "name": "stdout",
     "output_type": "stream",
     "text": [
      "(15927485, 6)\n"
     ]
    },
    {
     "data": {
      "text/html": [
       "<div>\n",
       "<style scoped>\n",
       "    .dataframe tbody tr th:only-of-type {\n",
       "        vertical-align: middle;\n",
       "    }\n",
       "\n",
       "    .dataframe tbody tr th {\n",
       "        vertical-align: top;\n",
       "    }\n",
       "\n",
       "    .dataframe thead th {\n",
       "        text-align: right;\n",
       "    }\n",
       "</style>\n",
       "<table border=\"1\" class=\"dataframe\">\n",
       "  <thead>\n",
       "    <tr style=\"text-align: right;\">\n",
       "      <th></th>\n",
       "      <th>fl_date</th>\n",
       "      <th>dep_time</th>\n",
       "      <th>dep_delay</th>\n",
       "      <th>arr_time</th>\n",
       "      <th>arr_delay</th>\n",
       "      <th>air_time</th>\n",
       "    </tr>\n",
       "  </thead>\n",
       "  <tbody>\n",
       "    <tr>\n",
       "      <th>0</th>\n",
       "      <td>2018-01-01</td>\n",
       "      <td>2241.0</td>\n",
       "      <td>236.0</td>\n",
       "      <td>145.0</td>\n",
       "      <td>215.0</td>\n",
       "      <td>113.0</td>\n",
       "    </tr>\n",
       "    <tr>\n",
       "      <th>1</th>\n",
       "      <td>2018-01-01</td>\n",
       "      <td>1857.0</td>\n",
       "      <td>52.0</td>\n",
       "      <td>38.0</td>\n",
       "      <td>47.0</td>\n",
       "      <td>206.0</td>\n",
       "    </tr>\n",
       "    <tr>\n",
       "      <th>2</th>\n",
       "      <td>2018-01-01</td>\n",
       "      <td>557.0</td>\n",
       "      <td>-3.0</td>\n",
       "      <td>833.0</td>\n",
       "      <td>21.0</td>\n",
       "      <td>229.0</td>\n",
       "    </tr>\n",
       "    <tr>\n",
       "      <th>3</th>\n",
       "      <td>2018-01-01</td>\n",
       "      <td>1604.0</td>\n",
       "      <td>44.0</td>\n",
       "      <td>1746.0</td>\n",
       "      <td>31.0</td>\n",
       "      <td>87.0</td>\n",
       "    </tr>\n",
       "    <tr>\n",
       "      <th>4</th>\n",
       "      <td>2018-01-01</td>\n",
       "      <td>520.0</td>\n",
       "      <td>-7.0</td>\n",
       "      <td>605.0</td>\n",
       "      <td>-10.0</td>\n",
       "      <td>30.0</td>\n",
       "    </tr>\n",
       "  </tbody>\n",
       "</table>\n",
       "</div>"
      ],
      "text/plain": [
       "      fl_date  dep_time  dep_delay  arr_time  arr_delay  air_time\n",
       "0  2018-01-01    2241.0      236.0     145.0      215.0     113.0\n",
       "1  2018-01-01    1857.0       52.0      38.0       47.0     206.0\n",
       "2  2018-01-01     557.0       -3.0     833.0       21.0     229.0\n",
       "3  2018-01-01    1604.0       44.0    1746.0       31.0      87.0\n",
       "4  2018-01-01     520.0       -7.0     605.0      -10.0      30.0"
      ]
     },
     "execution_count": 153,
     "metadata": {},
     "output_type": "execute_result"
    }
   ],
   "source": [
    "query_eta = \"SELECT fl_date, dep_time, dep_delay, arr_time, arr_delay, air_time FROM flights ORDER BY fl_date ASC;\"\n",
    "\n",
    "df_eta = pd.read_sql_query(query_eta, engine)\n",
    "print(df_eta.shape)\n",
    "df_eta.head()"
   ]
  },
  {
   "cell_type": "code",
   "execution_count": 154,
   "id": "bf901023-be0f-449c-b186-ffb1571b8405",
   "metadata": {},
   "outputs": [
    {
     "data": {
      "text/plain": [
       "(6085845, 6)"
      ]
     },
     "execution_count": 154,
     "metadata": {},
     "output_type": "execute_result"
    }
   ],
   "source": [
    "# Filter for Arrival Delay < 0\n",
    "df_eta = df_eta.drop(df_eta[(df_eta['arr_delay']<0)].index)\n",
    "df_eta.shape"
   ]
  },
  {
   "cell_type": "code",
   "execution_count": 155,
   "id": "3bcc1e64-eda4-4974-af8c-4480ed9ff58e",
   "metadata": {},
   "outputs": [
    {
     "data": {
      "text/plain": [
       "(4518591, 6)"
      ]
     },
     "execution_count": 155,
     "metadata": {},
     "output_type": "execute_result"
    }
   ],
   "source": [
    "# Filter for Departure Delay < 0\n",
    "df_eta = df_eta.drop(df_eta[(df_eta['dep_delay']<0)].index)\n",
    "df_eta.shape"
   ]
  },
  {
   "cell_type": "code",
   "execution_count": 156,
   "id": "a4c08d42-2cd5-403f-8fb0-35e8b2d9ed37",
   "metadata": {},
   "outputs": [
    {
     "data": {
      "text/plain": [
       "74.24755313354186"
      ]
     },
     "execution_count": 156,
     "metadata": {},
     "output_type": "execute_result"
    }
   ],
   "source": [
    "4518591/6085845*100"
   ]
  },
  {
   "cell_type": "code",
   "execution_count": 157,
   "id": "c914142e-3c45-4893-bad6-d868f6334446",
   "metadata": {},
   "outputs": [
    {
     "data": {
      "text/html": [
       "<div>\n",
       "<style scoped>\n",
       "    .dataframe tbody tr th:only-of-type {\n",
       "        vertical-align: middle;\n",
       "    }\n",
       "\n",
       "    .dataframe tbody tr th {\n",
       "        vertical-align: top;\n",
       "    }\n",
       "\n",
       "    .dataframe thead th {\n",
       "        text-align: right;\n",
       "    }\n",
       "</style>\n",
       "<table border=\"1\" class=\"dataframe\">\n",
       "  <thead>\n",
       "    <tr style=\"text-align: right;\">\n",
       "      <th></th>\n",
       "      <th>fl_date</th>\n",
       "      <th>dep_time</th>\n",
       "      <th>dep_delay</th>\n",
       "      <th>arr_time</th>\n",
       "      <th>arr_delay</th>\n",
       "      <th>air_time</th>\n",
       "    </tr>\n",
       "  </thead>\n",
       "  <tbody>\n",
       "    <tr>\n",
       "      <th>0</th>\n",
       "      <td>2018-01-01</td>\n",
       "      <td>2241.0</td>\n",
       "      <td>236.0</td>\n",
       "      <td>145.0</td>\n",
       "      <td>215.0</td>\n",
       "      <td>113.0</td>\n",
       "    </tr>\n",
       "    <tr>\n",
       "      <th>1</th>\n",
       "      <td>2018-01-01</td>\n",
       "      <td>1857.0</td>\n",
       "      <td>52.0</td>\n",
       "      <td>38.0</td>\n",
       "      <td>47.0</td>\n",
       "      <td>206.0</td>\n",
       "    </tr>\n",
       "    <tr>\n",
       "      <th>3</th>\n",
       "      <td>2018-01-01</td>\n",
       "      <td>1604.0</td>\n",
       "      <td>44.0</td>\n",
       "      <td>1746.0</td>\n",
       "      <td>31.0</td>\n",
       "      <td>87.0</td>\n",
       "    </tr>\n",
       "    <tr>\n",
       "      <th>7</th>\n",
       "      <td>2018-01-01</td>\n",
       "      <td>1651.0</td>\n",
       "      <td>66.0</td>\n",
       "      <td>1806.0</td>\n",
       "      <td>50.0</td>\n",
       "      <td>61.0</td>\n",
       "    </tr>\n",
       "    <tr>\n",
       "      <th>10</th>\n",
       "      <td>2018-01-01</td>\n",
       "      <td>1658.0</td>\n",
       "      <td>36.0</td>\n",
       "      <td>1755.0</td>\n",
       "      <td>35.0</td>\n",
       "      <td>41.0</td>\n",
       "    </tr>\n",
       "  </tbody>\n",
       "</table>\n",
       "</div>"
      ],
      "text/plain": [
       "       fl_date  dep_time  dep_delay  arr_time  arr_delay  air_time\n",
       "0   2018-01-01    2241.0      236.0     145.0      215.0     113.0\n",
       "1   2018-01-01    1857.0       52.0      38.0       47.0     206.0\n",
       "3   2018-01-01    1604.0       44.0    1746.0       31.0      87.0\n",
       "7   2018-01-01    1651.0       66.0    1806.0       50.0      61.0\n",
       "10  2018-01-01    1658.0       36.0    1755.0       35.0      41.0"
      ]
     },
     "execution_count": 157,
     "metadata": {},
     "output_type": "execute_result"
    }
   ],
   "source": [
    "df_eta.head()"
   ]
  },
  {
   "cell_type": "markdown",
   "id": "74788e97-4ce3-4772-8f36-39ab812282c1",
   "metadata": {
    "tags": []
   },
   "source": [
    "### There was a total of 6085845 late arrivals in the database and 4518591 late arrivals out of the 6085485 were also delay at the moment of departure. The percentage of delays that is already created before departure is 74.25%."
   ]
  },
  {
   "cell_type": "code",
   "execution_count": 158,
   "id": "ffdb4e13-7215-4f68-94c9-ca79f8f568d8",
   "metadata": {},
   "outputs": [
    {
     "data": {
      "text/html": [
       "<div>\n",
       "<style scoped>\n",
       "    .dataframe tbody tr th:only-of-type {\n",
       "        vertical-align: middle;\n",
       "    }\n",
       "\n",
       "    .dataframe tbody tr th {\n",
       "        vertical-align: top;\n",
       "    }\n",
       "\n",
       "    .dataframe thead th {\n",
       "        text-align: right;\n",
       "    }\n",
       "</style>\n",
       "<table border=\"1\" class=\"dataframe\">\n",
       "  <thead>\n",
       "    <tr style=\"text-align: right;\">\n",
       "      <th></th>\n",
       "      <th>fl_date</th>\n",
       "      <th>dep_time</th>\n",
       "      <th>dep_delay</th>\n",
       "      <th>arr_time</th>\n",
       "      <th>arr_delay</th>\n",
       "      <th>air_time</th>\n",
       "      <th>lower_delay</th>\n",
       "    </tr>\n",
       "  </thead>\n",
       "  <tbody>\n",
       "    <tr>\n",
       "      <th>0</th>\n",
       "      <td>2018-01-01</td>\n",
       "      <td>2241.0</td>\n",
       "      <td>236.0</td>\n",
       "      <td>145.0</td>\n",
       "      <td>215.0</td>\n",
       "      <td>113.0</td>\n",
       "      <td>-21.0</td>\n",
       "    </tr>\n",
       "    <tr>\n",
       "      <th>1</th>\n",
       "      <td>2018-01-01</td>\n",
       "      <td>1857.0</td>\n",
       "      <td>52.0</td>\n",
       "      <td>38.0</td>\n",
       "      <td>47.0</td>\n",
       "      <td>206.0</td>\n",
       "      <td>-5.0</td>\n",
       "    </tr>\n",
       "    <tr>\n",
       "      <th>3</th>\n",
       "      <td>2018-01-01</td>\n",
       "      <td>1604.0</td>\n",
       "      <td>44.0</td>\n",
       "      <td>1746.0</td>\n",
       "      <td>31.0</td>\n",
       "      <td>87.0</td>\n",
       "      <td>-13.0</td>\n",
       "    </tr>\n",
       "    <tr>\n",
       "      <th>7</th>\n",
       "      <td>2018-01-01</td>\n",
       "      <td>1651.0</td>\n",
       "      <td>66.0</td>\n",
       "      <td>1806.0</td>\n",
       "      <td>50.0</td>\n",
       "      <td>61.0</td>\n",
       "      <td>-16.0</td>\n",
       "    </tr>\n",
       "    <tr>\n",
       "      <th>10</th>\n",
       "      <td>2018-01-01</td>\n",
       "      <td>1658.0</td>\n",
       "      <td>36.0</td>\n",
       "      <td>1755.0</td>\n",
       "      <td>35.0</td>\n",
       "      <td>41.0</td>\n",
       "      <td>-1.0</td>\n",
       "    </tr>\n",
       "  </tbody>\n",
       "</table>\n",
       "</div>"
      ],
      "text/plain": [
       "       fl_date  dep_time  dep_delay  arr_time  arr_delay  air_time  \\\n",
       "0   2018-01-01    2241.0      236.0     145.0      215.0     113.0   \n",
       "1   2018-01-01    1857.0       52.0      38.0       47.0     206.0   \n",
       "3   2018-01-01    1604.0       44.0    1746.0       31.0      87.0   \n",
       "7   2018-01-01    1651.0       66.0    1806.0       50.0      61.0   \n",
       "10  2018-01-01    1658.0       36.0    1755.0       35.0      41.0   \n",
       "\n",
       "    lower_delay  \n",
       "0         -21.0  \n",
       "1          -5.0  \n",
       "3         -13.0  \n",
       "7         -16.0  \n",
       "10         -1.0  "
      ]
     },
     "execution_count": 158,
     "metadata": {},
     "output_type": "execute_result"
    }
   ],
   "source": [
    "# Input new column to check if airlines can lower the delay during flights\n",
    "df_eta['lower_delay'] = df_eta.apply(lambda row: row.arr_delay - \n",
    "                                  row.dep_delay, axis = 1)\n",
    "df_eta.head()"
   ]
  },
  {
   "cell_type": "code",
   "execution_count": 159,
   "id": "98336e40-c632-4d80-9a35-81efac2cedae",
   "metadata": {},
   "outputs": [
    {
     "data": {
      "text/plain": [
       "(4518591, 7)"
      ]
     },
     "execution_count": 159,
     "metadata": {},
     "output_type": "execute_result"
    }
   ],
   "source": [
    "df_eta.shape"
   ]
  },
  {
   "cell_type": "code",
   "execution_count": 161,
   "id": "0396509c-a593-4c83-8adc-ce9faaa13f81",
   "metadata": {},
   "outputs": [
    {
     "data": {
      "text/plain": [
       "2425367"
      ]
     },
     "execution_count": 161,
     "metadata": {},
     "output_type": "execute_result"
    }
   ],
   "source": [
    "df_eta[df_eta.lower_delay < 0].shape[0]"
   ]
  },
  {
   "cell_type": "code",
   "execution_count": 162,
   "id": "442d5419-f971-4aae-be37-3617a4b7750c",
   "metadata": {},
   "outputs": [
    {
     "data": {
      "text/plain": [
       "53.67529391352305"
      ]
     },
     "execution_count": 162,
     "metadata": {},
     "output_type": "execute_result"
    }
   ],
   "source": [
    "2425367/4518591*100"
   ]
  },
  {
   "cell_type": "markdown",
   "id": "c3714618-ec8f-4d34-b8bb-4be0067c56bb",
   "metadata": {},
   "source": [
    "### Out of the 4518591 flights that experienced a late departure, 2425367 flights had a lower arrival delay. We can therefore assume that airlines are able to reduce delays 53.68% of the time while flying."
   ]
  }
 ],
 "metadata": {
  "kernelspec": {
   "display_name": "Python 3 (ipykernel)",
   "language": "python",
   "name": "python3"
  },
  "language_info": {
   "codemirror_mode": {
    "name": "ipython",
    "version": 3
   },
   "file_extension": ".py",
   "mimetype": "text/x-python",
   "name": "python",
   "nbconvert_exporter": "python",
   "pygments_lexer": "ipython3",
   "version": "3.9.7"
  }
 },
 "nbformat": 4,
 "nbformat_minor": 5
}
